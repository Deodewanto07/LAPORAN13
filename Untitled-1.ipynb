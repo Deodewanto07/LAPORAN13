{
 "cells": [
  {
   "cell_type": "code",
   "execution_count": 1,
   "metadata": {},
   "outputs": [
    {
     "name": "stdout",
     "output_type": "stream",
     "text": [
      "Masukkan 5 nama aplikasi di kategori pertama\n"
     ]
    }
   ],
   "source": [
    "#Latihan 1\n",
    "n = int(input('Masukkan jumlah kategori: '))\n",
    "\n",
    "data_aplikasi = {}\n",
    "\n",
    "for i in range(n):\n",
    "    nama_kategori = input('Masukkan nama kategori: ')\n",
    "    print('Masukkan 5 nama aplikasi di kategori', nama_kategori)\n",
    "    \n",
    "    aplikasi = []\n",
    "    for j in range(5):\n",
    "        nama_aplikasi = input('Nama aplikasi: ')\n",
    "        aplikasi.append(nama_aplikasi)\n",
    "    \n",
    "    data_aplikasi[nama_kategori] = aplikasi\n",
    "\n",
    "print(\"Data aplikasi per kategori:\")\n",
    "print(data_aplikasi)\n",
    "\n",
    "daftar_aplikasi_list = [set(aplikasi) for aplikasi in data_aplikasi.values()]\n",
    "\n",
    "all_apps = set().union(*daftar_aplikasi_list)\n",
    "\n",
    "app_count = {}\n",
    "for app_set in daftar_aplikasi_list:\n",
    "    for app in app_set:\n",
    "        if app in app_count:\n",
    "            app_count[app] += 1\n",
    "        else:\n",
    "            app_count[app] = 1\n",
    "\n",
    "unique_apps = [app for app, count in app_count.items() if count == 1]\n",
    "print(\"Aplikasi yang hanya muncul di satu kategori:\")\n",
    "print(unique_apps)\n",
    "\n",
    "if n > 2:\n",
    "    double_category_apps = [app for app, count in app_count.items() if count == 2]\n",
    "    print(\"Aplikasi yang muncul tepat di dua kategori sekaligus:\")\n",
    "    print(double_category_apps)\n",
    "else:\n",
    "    print(\"Jumlah kategori tidak lebih dari 2, tidak ada aplikasi yang muncul tepat di dua kategori sekaligus.\")\n",
    "\n",
    "if daftar_aplikasi_list:\n",
    "    hasil = daftar_aplikasi_list[0]\n",
    "    for i in range(1, len(daftar_aplikasi_list)):\n",
    "        hasil = hasil.intersection(daftar_aplikasi_list[i])\n",
    "    print(\"Aplikasi yang muncul di semua kategori:\")\n",
    "    print(hasil)\n",
    "else:\n",
    "    print(\"Tidak ada data aplikasi untuk dihitung.\")\n",
    "\n",
    "\n"
   ]
  },
  {
   "cell_type": "code",
   "execution_count": 1,
   "metadata": {},
   "outputs": [
    {
     "name": "stdout",
     "output_type": "stream",
     "text": [
      "List awal: [1, 2, 3, 4, 5]\n",
      "Set hasil konversi dari List: {1, 2, 3, 4, 5}\n",
      "\n",
      "Set awal: {5, 6, 7, 8, 9}\n",
      "List hasil konversi dari Set: [5, 6, 7, 8, 9]\n",
      "\n",
      "Tuple awal: (9, 10, 11, 12, 13)\n",
      "Set hasil konversi dari Tuple: {9, 10, 11, 12, 13}\n",
      "\n",
      "Set awal: {16, 17, 13, 14, 15}\n",
      "Tuple hasil konversi dari Set: (16, 17, 13, 14, 15)\n"
     ]
    }
   ],
   "source": [
    "#Latihan 2\n",
    "# List awal\n",
    "list_awal = [1, 2, 3, 4, 5]\n",
    "print(\"List awal:\", list_awal)\n",
    "# Mengkonversi List menjadi Set\n",
    "set_hasil_1 = set(list_awal)\n",
    "print(\"Set hasil konversi dari List:\", set_hasil_1)\n",
    "# Set awal\n",
    "set_awal = {5, 6, 7, 8, 9}\n",
    "print(\"\\nSet awal:\", set_awal)\n",
    "\n",
    "# Mengkonversi Set menjadi List\n",
    "list_hasil_2 = list(set_awal)\n",
    "print(\"List hasil konversi dari Set:\", list_hasil_2)\n",
    "\n",
    "# Tuple awal\n",
    "tuple_awal = (9, 10, 11, 12, 13)\n",
    "print(\"\\nTuple awal:\", tuple_awal)\n",
    "\n",
    "# Mengkonversi Tuple menjadi Set\n",
    "set_hasil_3 = set(tuple_awal)\n",
    "print(\"Set hasil konversi dari Tuple:\", set_hasil_3)\n",
    "\n",
    "# Set awal\n",
    "set_awal_2 = {13, 14, 15, 16, 17}\n",
    "print(\"\\nSet awal:\", set_awal_2)\n",
    "\n",
    "# Mengkonversi Set menjadi Tuple\n",
    "tuple_hasil_4 = tuple(set_awal_2)\n",
    "print(\"Tuple hasil konversi dari Set:\", tuple_hasil_4)\n"
   ]
  },
  {
   "cell_type": "code",
   "execution_count": 2,
   "metadata": {},
   "outputs": [
    {
     "name": "stdout",
     "output_type": "stream",
     "text": [
      "Kata-kata yang muncul di kedua file:\n",
      "{'ini', 'contoh', 'beberapa', 'file', 'berisi', 'kata', 'adalah'}\n"
     ]
    }
   ],
   "source": [
    "#Latihan 3\n",
    "def baca_kata_dari_file(nama_file):\n",
    "    try:\n",
    "        with open(nama_file, 'r') as file:\n",
    "            isi = file.read().lower()\n",
    "            return set(isi.split())\n",
    "    except FileNotFoundError:\n",
    "        print(f\"Error: File '{nama_file}' tidak ditemukan atau tidak bisa dibaca.\")\n",
    "        return set()\n",
    "\n",
    "nama_file1 = input(\"Masukkan nama file pertama: \")\n",
    "nama_file2 = input(\"Masukkan nama file kedua: \")\n",
    "\n",
    "kata_set1 = baca_kata_dari_file(nama_file1)\n",
    "kata_set2 = baca_kata_dari_file(nama_file2)\n",
    "\n",
    "kata_kedua_file = kata_set1 & kata_set2\n",
    "\n",
    "if kata_kedua_file:\n",
    "    print(\"Kata-kata yang muncul di kedua file:\")\n",
    "    print(kata_kedua_file)\n",
    "else:\n",
    "    print(\"Tidak ada kata yang muncul di kedua file.\")"
   ]
  }
 ],
 "metadata": {
  "kernelspec": {
   "display_name": "Python 3",
   "language": "python",
   "name": "python3"
  },
  "language_info": {
   "codemirror_mode": {
    "name": "ipython",
    "version": 3
   },
   "file_extension": ".py",
   "mimetype": "text/x-python",
   "name": "python",
   "nbconvert_exporter": "python",
   "pygments_lexer": "ipython3",
   "version": "3.12.2"
  },
  "orig_nbformat": 4
 },
 "nbformat": 4,
 "nbformat_minor": 2
}
